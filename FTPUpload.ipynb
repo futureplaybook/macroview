{
 "cells": [
  {
   "cell_type": "code",
   "execution_count": 14,
   "metadata": {},
   "outputs": [],
   "source": [
    "from ftplib import FTP\n",
    "import os "
   ]
  },
  {
   "cell_type": "code",
   "execution_count": 3,
   "metadata": {},
   "outputs": [],
   "source": [
    "ftp = FTP('ftp.econlongview.com','econwotr','&1z5d678WC8@L8xF')"
   ]
  },
  {
   "cell_type": "code",
   "execution_count": 4,
   "metadata": {},
   "outputs": [
    {
     "data": {
      "text/plain": [
       "'250 OK. Current directory is /public_html/macroview'"
      ]
     },
     "execution_count": 4,
     "metadata": {},
     "output_type": "execute_result"
    }
   ],
   "source": [
    "ftp.cwd('public_html/macroview')"
   ]
  },
  {
   "cell_type": "code",
   "execution_count": 5,
   "metadata": {},
   "outputs": [
    {
     "name": "stdout",
     "output_type": "stream",
     "text": [
      "drwxr-xr-x   10 econwotr   econwotr         4096 Apr 21 02:43 .\n",
      "drwxr-x---    7 econwotr   99               4096 Apr 21 02:42 ..\n",
      "drwxr-xr-x    5 econwotr   econwotr         4096 Apr 19 05:20 .git\n",
      "-rw-r--r--    1 econwotr   econwotr      3415886 Apr 18 23:58 148aed53-303b-43ac-b4c9-ac1a3692c829.jpg\n",
      "-rw-r--r--    1 econwotr   econwotr         1966 Apr 18 23:56 DemoHTML.html\n",
      "-rw-r--r--    1 econwotr   econwotr         4007 Apr 18 23:56 DemoMultiTS.html\n",
      "-rw-r--r--    1 econwotr   econwotr         4662 Apr 18 23:56 DemoMultiTS_v2.html\n",
      "-rw-r--r--    1 econwotr   econwotr        12123 Apr 21 00:33 GenerateData.py\n",
      "-rw-r--r--    1 econwotr   econwotr        14075 Apr 19 05:54 GenerateHTML.ipynb\n",
      "-rw-r--r--    1 econwotr   econwotr        39654 Apr 20 23:51 HTMLGetData3.ipynb\n",
      "-rw-r--r--    1 econwotr   econwotr        36900 Apr 21 00:37 HTMLGetData4.ipynb\n",
      "-rw-r--r--    1 econwotr   econwotr          137 Apr 18 23:58 Job.bat\n",
      "-rw-r--r--    1 econwotr   econwotr       116943 Apr 18 23:57 RssFeeder.ipynb\n",
      "-rw-r--r--    1 econwotr   econwotr           26 Mar 14 00:08 _config.yml\n",
      "-rw-r--r--    1 econwotr   econwotr      1648095 Apr 18 23:58 beb4cd9e-6c17-4fea-abae-7d560f70ae5e.jpg\n",
      "-rw-r--r--    1 econwotr   econwotr         1607 Apr 19 04:10 bottom.html\n",
      "drwxr-xr-x    2 econwotr   econwotr         4096 Apr 18 01:43 chartPage\n",
      "-rw-r--r--    1 econwotr   econwotr         1974 Apr 18 23:57 charts.js\n",
      "-rw-r--r--    1 econwotr   econwotr          107 Apr 18 23:58 commit.bat\n",
      "-rw-r--r--    1 econwotr   econwotr         3979 Apr 18 23:57 commoditiesCharts.js\n",
      "-rw-r--r--    1 econwotr   econwotr            0 Apr 18 01:44 currencyCharts.js\n",
      "-rw-r--r--    1 econwotr   econwotr          642 Apr 18 23:58 d.csv\n",
      "drwxr-xr-x    2 econwotr   econwotr         4096 Apr 18 01:50 data\n",
      "-rw-r--r--    1 econwotr   econwotr        36550 Apr 18 23:57 data_dvdYield.js\n",
      "-rw-r--r--    1 econwotr   econwotr         1978 Apr 18 23:57 data_worldGDP.js\n",
      "drwxr-xr-x    2 econwotr   econwotr         4096 Apr 18 01:51 dump\n",
      "-rw-r--r--    1 econwotr   econwotr      1705397 Apr 18 23:58 fc466cbd-5e89-4179-9b61-7ac78b09caee.jpg\n",
      "-rw-r--r--    1 econwotr   econwotr         4799 Apr 19 10:19 home.html\n",
      "drwxr-xr-x    2 econwotr   econwotr         4096 Apr 18 01:52 img\n",
      "-rw-r--r--    1 econwotr   econwotr         2449 Apr 19 05:21 index.html\n",
      "-rw-r--r--    1 econwotr   econwotr        17103 Apr 18 23:57 indexCharts.js\n",
      "-rw-r--r--    1 econwotr   econwotr         3878 Apr 18 23:57 inflationCharts.js\n",
      "drwxr-xr-x    8 econwotr   econwotr         4096 Apr 19 04:17 macroview\n",
      "-rw-r--r--    1 econwotr   econwotr         3699 Apr 19 04:10 menu.html\n",
      "-rw-r--r--    1 econwotr   econwotr          169 Apr 18 23:58 meta_SHILLER_PE_RATIO_MONTH.js\n",
      "-rw-r--r--    1 econwotr   econwotr         3241 Apr 19 02:26 nav.html\n",
      "drwxr-xr-x    2 econwotr   econwotr         4096 Apr 18 23:55 page\n",
      "-rw-r--r--    1 econwotr   econwotr        19449 Apr 18 23:57 page2.html\n",
      "-rw-r--r--    1 econwotr   econwotr         2343 Apr 19 05:57 page_EconCalendar.html\n",
      "-rw-r--r--    1 econwotr   econwotr         4756 Apr 19 05:57 page_commodities.html\n",
      "-rw-r--r--    1 econwotr   econwotr         2777 Apr 19 05:57 page_currency.html\n",
      "-rw-r--r--    1 econwotr   econwotr         3843 Apr 19 05:57 page_dvdYield.html\n",
      "-rw-r--r--    1 econwotr   econwotr         3314 Apr 19 05:57 page_inflation.html\n",
      "-rw-r--r--    1 econwotr   econwotr         9366 Apr 19 05:57 page_sector.html\n",
      "-rw-r--r--    1 econwotr   econwotr         2785 Apr 19 05:57 page_spratio.html\n",
      "-rw-r--r--    1 econwotr   econwotr         6440 Apr 19 05:57 page_style.html\n",
      "-rw-r--r--    1 econwotr   econwotr         2777 Apr 19 05:57 page_treasury.html\n",
      "-rw-r--r--    1 econwotr   econwotr        11398 Apr 19 05:57 page_worldIndex.html\n",
      "-rw-r--r--    1 econwotr   econwotr         2782 Apr 19 05:57 page_yieldCurve.html\n",
      "drwxr-xr-x    2 econwotr   econwotr         4096 Apr 21 02:43 pythonapp\n",
      "-rw-r--r--    1 econwotr   econwotr        20846 Apr 19 05:57 relatedInstruments.html\n",
      "-rw-r--r--    1 econwotr   econwotr           24 Apr 18 07:19 robots.txt\n",
      "-rw-r--r--    1 econwotr   econwotr         3775 Apr 18 23:58 sectorCharts.js\n",
      "-rw-r--r--    1 econwotr   econwotr            0 Apr 18 01:55 spratioCharts.js\n",
      "-rw-r--r--    1 econwotr   econwotr            0 Apr 18 01:55 styleCharts.js\n",
      "-rw-r--r--    1 econwotr   econwotr            0 Apr 18 01:55 treasuryCharts.js\n",
      "-rw-r--r--    1 econwotr   econwotr         3984 Apr 18 23:58 worldIndexCharts.js\n",
      "-rw-r--r--    1 econwotr   econwotr         3979 Apr 18 23:58 yieldCurveCharts.js\n"
     ]
    },
    {
     "data": {
      "text/plain": [
       "'226-Options: -a -l \\n226 58 matches total'"
      ]
     },
     "execution_count": 5,
     "metadata": {},
     "output_type": "execute_result"
    }
   ],
   "source": [
    "ftp.retrlines('LIST')"
   ]
  },
  {
   "cell_type": "code",
   "execution_count": 17,
   "metadata": {},
   "outputs": [
    {
     "data": {
      "text/plain": [
       "'c:\\\\Users\\\\user\\\\Downloads\\\\demoHTML-main\\\\macroview\\\\data\\\\d.csv'"
      ]
     },
     "execution_count": 17,
     "metadata": {},
     "output_type": "execute_result"
    }
   ],
   "source": [
    "cwd = os.getcwd()\n",
    "filename = cwd+\"\\\\data\\\\d.csv\"\n",
    "filename"
   ]
  },
  {
   "cell_type": "code",
   "execution_count": 21,
   "metadata": {},
   "outputs": [],
   "source": [
    "ftp.cwd('/public_html/macroview/data')\n",
    "\n",
    "# Enter File Name with Extension\n",
    "cwd = os.getcwd()\n",
    "filename = cwd+\"\\\\data\\\\d.csv\"\n",
    " \n",
    "# Read file in binary mode\n",
    "with open(filename, \"rb\") as file:\n",
    "    # Command for Uploading the file \"STOR filename\"\n",
    "    ftp.storbinary('STOR ' + '/' + 'd.csv', open(filename, 'rb'))"
   ]
  },
  {
   "cell_type": "code",
   "execution_count": 8,
   "metadata": {},
   "outputs": [
    {
     "data": {
      "text/plain": [
       "'221-Goodbye. You uploaded 0 and downloaded 0 kbytes.\\n221 Logout.'"
      ]
     },
     "execution_count": 8,
     "metadata": {},
     "output_type": "execute_result"
    }
   ],
   "source": [
    "ftp.quit()"
   ]
  },
  {
   "cell_type": "code",
   "execution_count": null,
   "metadata": {},
   "outputs": [],
   "source": []
  }
 ],
 "metadata": {
  "interpreter": {
   "hash": "6d46af94c2bbce495f1e668725902fa517c90b1782bcfe2fce0dd9868df553d3"
  },
  "kernelspec": {
   "display_name": "Python 3.8.5",
   "language": "python",
   "name": "python3"
  },
  "language_info": {
   "codemirror_mode": {
    "name": "ipython",
    "version": 3
   },
   "file_extension": ".py",
   "mimetype": "text/x-python",
   "name": "python",
   "nbconvert_exporter": "python",
   "pygments_lexer": "ipython3",
   "version": "3.8.5"
  },
  "orig_nbformat": 4
 },
 "nbformat": 4,
 "nbformat_minor": 2
}
